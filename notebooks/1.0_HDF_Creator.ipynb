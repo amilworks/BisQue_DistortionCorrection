{
 "cells": [
  {
   "cell_type": "markdown",
   "metadata": {},
   "source": [
    "# **HDF5 Builder Python Function**\n",
    "\n",
    "#### Amil Khan, Marie Charpagne, Marat Latypov\n",
    "***"
   ]
  },
  {
   "cell_type": "code",
   "execution_count": 12,
   "metadata": {},
   "outputs": [],
   "source": [
    "import h5py \n",
    "import imghdr\n",
    "import numpy as np\n",
    "import matplotlib.pyplot as plt"
   ]
  },
  {
   "cell_type": "markdown",
   "metadata": {},
   "source": [
    "## Instructions\n",
    "\n",
    "This function is built as a preprocessing step for the __Distortion Correction__ function soon to be implemented into BisQue.\n",
    "\n",
    "#### **Inputs**\n",
    "\n",
    "- Path to `ang` file\n",
    "- Path to EBSD image\n",
    "- Path to segmented image\n",
    "- Name for the Output HDF file\n",
    "\n",
    "\n",
    "#### **Outputs**\n",
    "\n",
    "- HDF file containing all three components for __Distortion Correction__ function in BisQue."
   ]
  },
  {
   "cell_type": "code",
   "execution_count": 19,
   "metadata": {},
   "outputs": [],
   "source": [
    "def HDF_Creator(ang_path, ebsd_path, segment_path, output_filename):\n",
    "\n",
    "    \n",
    "    if isinstance(ebsd_path, np.ndarray) and isinstance(segment_path, np.ndarray):\n",
    "        print(\"Loading images from numpy arrays...\")\n",
    "        ebsd = ebsd_path\n",
    "        segment = segment_path\n",
    "\n",
    "    elif (imghdr.what(ebsd_path) and imghdr.what(segment_path)) in ['png', 'jpg', 'tif']:\n",
    "        print(\"Loading images from file paths...\")\n",
    "        ebsd = plt.imread(ebsd_path)\n",
    "        segment = plt.imread(segment_path)\n",
    "\n",
    "    else:\n",
    "        print(\"Brew, are you inputting valid images?\")\n",
    "    \n",
    "    ang = np.loadtxt(ang_path)\n",
    "    \n",
    "    print('\\n------------------------------------------')\n",
    "    print('EBSD Image Shape      :', ebsd.shape)\n",
    "    print('Segmented Image Shape :', segment.shape)\n",
    "    print('.ang Shape            :', ang.shape)\n",
    "    print('------------------------------------------\\n')\n",
    "    \n",
    "    fig, axes = plt.subplots(1, 2, sharex=False, sharey=False)\n",
    "    axes[0].imshow(ebsd, cmap='gray')\n",
    "    axes[0].axis('off')\n",
    "    axes[0].set_title(\"EBSD\")\n",
    "    axes[1].imshow(segment, cmap='gray')\n",
    "    axes[1].set_title(\"Segmented\")\n",
    "    axes[1].axis('off')\n",
    "    plt.suptitle(\"Inputted Images\")\n",
    "\n",
    "     \n",
    "    f = h5py.File(output_filename, 'a')\n",
    "    f.create_dataset(\"ebsd\", data=ebsd)\n",
    "    f.create_dataset(\"segment\", data=segment)\n",
    "    f.create_dataset(\"ang\", data=ang)\n",
    "    \n",
    "    \n",
    "    print('Output Filename      :', output_filename)\n",
    "    print(\"Keys from output HDF5:\",list(f.keys()), \"\\n\")\n",
    "    return f"
   ]
  },
  {
   "cell_type": "markdown",
   "metadata": {},
   "source": [
    "### **Comments**\n",
    "\n",
    "As you can see in the output, I have included some meta-data about the inputs to help you verify your inputs. For instance, if you inputted `numpy` arrays, the beginning of the function call will tell you. Additionally, the shapes of the images and `.ang` file is outputted. And if you were questioning which images you loaded, there is a side-by-side of the inputted images."
   ]
  },
  {
   "cell_type": "code",
   "execution_count": 21,
   "metadata": {},
   "outputs": [
    {
     "name": "stdout",
     "output_type": "stream",
     "text": [
      "Loading images from file paths...\n",
      "\n",
      "------------------------------------------\n",
      "EBSD Image Shape      : (846, 601)\n",
      "Segmented Image Shape : (1893, 1153, 3)\n",
      ".ang Shape            : (508446, 14)\n",
      "------------------------------------------\n",
      "\n",
      "Output Filename      : test_condition.h5\n",
      "Keys from output HDF5: ['ang', 'ebsd', 'segment'] \n",
      "\n"
     ]
    },
    {
     "data": {
      "text/plain": [
       "<HDF5 file \"test_condition.h5\" (mode r+)>"
      ]
     },
     "execution_count": 21,
     "metadata": {},
     "output_type": "execute_result"
    },
    {
     "data": {
      "image/png": "[encoded data removed]",
      "text/plain": [
       "<Figure size 432x288 with 2 Axes>"
      ]
     },
     "metadata": {
      "needs_background": "light"
     },
     "output_type": "display_data"
    }
   ],
   "source": [
    "HDF_Creator('AM718/ang/AM718.ang','AM718/ebsd/AM718_ebsd.jpg','AM718/segment/AM718_segment.png', 'test_condition.h5')"
   ]
  }
 ],
 "metadata": {
  "kernelspec": {
   "display_name": "Python 3",
   "language": "python",
   "name": "python3"
  },
  "language_info": {
   "codemirror_mode": {
    "name": "ipython",
    "version": 3
   },
   "file_extension": ".py",
   "mimetype": "text/x-python",
   "name": "python",
   "nbconvert_exporter": "python",
   "pygments_lexer": "ipython3",
   "version": "3.5.6"
  }
 },
 "nbformat": 4,
 "nbformat_minor": 2
}
